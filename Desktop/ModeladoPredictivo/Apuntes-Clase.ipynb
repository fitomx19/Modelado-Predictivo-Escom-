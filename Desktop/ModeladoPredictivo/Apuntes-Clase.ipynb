{
 "cells": [
  {
   "attachments": {},
   "cell_type": "markdown",
   "metadata": {},
   "source": [
    "### Apuntes"
   ]
  },
  {
   "attachments": {},
   "cell_type": "markdown",
   "metadata": {},
   "source": [
    "For binary target functions, show that P[h(x) != f(x)] can be writen as an expected value of a mean squared error measure in the following cases\n",
    "\n",
    "- The convention used for the binary function is 0 or 1\n",
    "- The convention usded for the binary function is +- 1\n",
    "\n",
    "Hint: The difference between both is just a scale"
   ]
  },
  {
   "attachments": {},
   "cell_type": "markdown",
   "metadata": {},
   "source": [
    "${1/N Sumatoria((h)(x)-f(x))cuadrado}$ <br>\n",
    "\n",
    "${1/N Sumatoria (0-1)cuadrado = 0/N = 0}$ <br>\n",
    "\n",
    "${1/N Sumatoria (0-1)cuadrado = -1cuadrado/N = 1 / N}$ <br>\n",
    "\n",
    "Lo mismo para (1-0) , (1-1) <br>\n",
    "\n",
    "${P(0!=0) = 0/N}$ <br>\n",
    "${P(0!=1) = 1/N}$ <br>\n",
    "${P(1!=0) = 1/N}$ <br>\n",
    "${P(1!=1) = 0/N}$"
   ]
  },
  {
   "attachments": {},
   "cell_type": "markdown",
   "metadata": {},
   "source": [
    "Muestra que si ${H}$ es cerrado bajo combinacion lineal ( cualquier combinacion de hipotesis en h es tambien una hipotesis en ${H}$ ) ,entonces ${g}$ pertenece a \n",
    "${H}$ "
   ]
  },
  {
   "cell_type": "markdown",
   "metadata": {},
   "source": []
  }
 ],
 "metadata": {
  "kernelspec": {
   "display_name": "Python 3",
   "language": "python",
   "name": "python3"
  },
  "language_info": {
   "codemirror_mode": {
    "name": "ipython",
    "version": 3
   },
   "file_extension": ".py",
   "mimetype": "text/x-python",
   "name": "python",
   "nbconvert_exporter": "python",
   "pygments_lexer": "ipython3",
   "version": "3.11.1"
  },
  "orig_nbformat": 4
 },
 "nbformat": 4,
 "nbformat_minor": 2
}
