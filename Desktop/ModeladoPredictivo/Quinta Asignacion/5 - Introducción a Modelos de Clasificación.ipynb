{
 "cells": [
  {
   "cell_type": "code",
   "execution_count": 324,
   "metadata": {},
   "outputs": [],
   "source": [
    "# Execute if necessary\n",
    "# %%capture\n",
    "# !pip install numpy seaborn matplotlib pandas openml"
   ]
  },
  {
   "cell_type": "code",
   "execution_count": 325,
   "metadata": {},
   "outputs": [],
   "source": [
    "import numpy as np\n",
    "import seaborn as sns\n",
    "import matplotlib.pyplot as plt\n",
    "import pandas as pd\n",
    "from typing import Dict, Tuple, Union, List\n",
    "import openml\n",
    "import sklearn"
   ]
  },
  {
   "cell_type": "markdown",
   "metadata": {},
   "source": [
    "# Práctica 5: Introducción a Modelos de Clasificación"
   ]
  },
  {
   "cell_type": "markdown",
   "metadata": {},
   "source": [
    "__Instrucciones__: A continuación hay una lista de funciones que debe implementar o tareas que debe desarrollar. La descripción de cada una de ellas se encuentra en la definición de cada una de las funciones.\n",
    "\n",
    "La entrega de la práctica será en la siguiente sesión a menos que la indicación sea otra. La revisión iniciará al iniciar la sesión y únicamente podrá ser evaluada durante la duración de la sesión."
   ]
  },
  {
   "attachments": {},
   "cell_type": "markdown",
   "metadata": {},
   "source": [
    "## Asignación 1\n",
    "\n",
    "Implemente una clase  que permita ajustar un modelo KNN. La clase debe cumplir con los siguientes requisitos:\n",
    "\n",
    "- Debe contar con un método para realizar el entrenamiento en caso de ser requerido.\n",
    "- Debe contar con un método para realizar las predicciones.\n",
    "- Cada método debe imprimir una barra de progreso que permita conocer el tiempo estimado en que terminará.\n",
    "- La clase debe permitir el uso de la distancia Mikownski y similitud coseno."
   ]
  },
  {
   "attachments": {},
   "cell_type": "markdown",
   "metadata": {},
   "source": [
    "El algoritmo k-vecinos más cercanos (KNN) es un simple algoritmo de aprendizaje automático supervisado que se puede utilizar para resolver problemas de clasificación y regresión. Es fácil de implementar y comprender, pero tiene un inconveniente importante de volverse significativamente más lento a medida que crece el tamaño de los datos en uso.\n",
    "\n",
    "KNN trabaja buscando las distancias entre una consulta y todos los ejemplos en los datos, seleccionando el número especificado ejemplos (K) más cercanos a la consulta, luego vota por la etiqueta más frecuente (en el caso de la clasificación) o promedia las etiquetas (en el caso de la regresión).\n",
    "\n",
    "En el caso de la clasificación y la regresión, vimos esa elección la K correcta para nuestros datos se hace probando varios Ks y escogiendo el que mejor funciona."
   ]
  },
  {
   "cell_type": "code",
   "execution_count": 326,
   "metadata": {},
   "outputs": [],
   "source": [
    "import time\n",
    "import numpy as np\n",
    "from tqdm import tqdm\n",
    "\n",
    "class KNNModel:\n",
    "\n",
    "    def __init__(self, k=5, metric='euclidean' , p=2):\n",
    "        self.k = k\n",
    "        self.metric = metric\n",
    "        self.p = p\n",
    "\n",
    "    def fit(self, X, y):\n",
    "        self.X_train = X\n",
    "        self.y_train = y\n",
    "\n",
    "    def predict(self, X):\n",
    "        start_time = time.time()\n",
    "        predictions = []\n",
    "        for x_test in tqdm(X):\n",
    "            distances = []\n",
    "            for x_train in self.X_train:\n",
    "\n",
    "                #identificamos el metodo de distancia a utilizar\n",
    "\n",
    "                if self.metric == 'euclidean':\n",
    "                    distance = np.sqrt(np.sum((x_test - x_train)**2))\n",
    "                elif self.metric == 'cosine':\n",
    "                    distance = 1 - (np.dot(x_test, x_train) / (np.linalg.norm(x_test) * np.linalg.norm(x_train)))\n",
    "                elif self.metric == 'manhattan':\n",
    "                    distance = np.sum(np.abs(x_test - x_train))\n",
    "                elif self.metric == 'mikownski':\n",
    "                    \n",
    "                    distance = (np.sum((x_test - x_train)**self.p))**(1/self.p)\n",
    "                else:\n",
    "                    raise ValueError('Metrica no soportada')\n",
    "\n",
    "                distances.append(distance)\n",
    "            #evaluamos la distancia de cada punto con el resto de los puntos\n",
    "            top_k_indices = np.argsort(distances)[:self.k]\n",
    "            top_k_classes = [self.y_train[i] for i in top_k_indices]\n",
    "            most_common_class = max(set(top_k_classes), key=top_k_classes.count)\n",
    "            predictions.append(most_common_class)\n",
    "        \n",
    "        elapsed_time = time.time() - start_time\n",
    "        print(f\"Prediccion completada en {elapsed_time:.2f} segundos.\")\n",
    "        return np.array(predictions)\n",
    "\n",
    "    def score(self, X, y):\n",
    "        predictions = self.predict(X)\n",
    "        return np.mean(predictions == y)\n"
   ]
  },
  {
   "attachments": {},
   "cell_type": "markdown",
   "metadata": {},
   "source": [
    "#### Prueba con un dataset de cancer"
   ]
  },
  {
   "cell_type": "code",
   "execution_count": 327,
   "metadata": {},
   "outputs": [
    {
     "name": "stderr",
     "output_type": "stream",
     "text": [
      "  0%|          | 0/114 [00:00<?, ?it/s]/var/folders/zb/0l4s85s95rzbg13c3_fm6k540000gn/T/ipykernel_43423/3876089255.py:33: RuntimeWarning: invalid value encountered in scalar power\n",
      "  distance = (np.sum((x_test - x_train)**self.p))**(1/self.p)\n",
      "100%|██████████| 114/114 [00:00<00:00, 345.10it/s]\n"
     ]
    },
    {
     "name": "stdout",
     "output_type": "stream",
     "text": [
      "Prediccion completada en 0.33 segundos.\n"
     ]
    },
    {
     "name": "stderr",
     "output_type": "stream",
     "text": [
      "100%|██████████| 114/114 [00:00<00:00, 398.17it/s]"
     ]
    },
    {
     "name": "stdout",
     "output_type": "stream",
     "text": [
      "Prediccion completada en 0.29 segundos.\n",
      "Precisión: 0.9211\n"
     ]
    },
    {
     "name": "stderr",
     "output_type": "stream",
     "text": [
      "\n"
     ]
    }
   ],
   "source": [
    "import pandas as pd\n",
    "from sklearn.model_selection import train_test_split\n",
    "from sklearn.metrics import accuracy_score\n",
    "from sklearn.preprocessing import StandardScaler\n",
    "from sklearn.datasets import load_breast_cancer\n",
    "\n",
    "# Cargar datos de ejemplo\n",
    "data = load_breast_cancer()\n",
    "X, y = data.data, data.target\n",
    "\n",
    "# Normalizar los datos\n",
    "scaler = StandardScaler()\n",
    "X = scaler.fit_transform(X)\n",
    "\n",
    "# Dividir los datos en conjuntos de entrenamiento y prueba\n",
    "X_train, X_test, y_train, y_test = train_test_split(X, y, test_size=0.2, random_state=42)\n",
    "\n",
    "# Ajustar modelo KNN\n",
    "model = KNNModel(k=5, metric='mikownski' , p=3)\n",
    "model.fit(X_train, y_train)\n",
    "\n",
    "# Predecir en el conjunto de prueba\n",
    "y_pred = model.predict(X_test)\n",
    "\n",
    "# Calcular la puntuación en el conjunto de prueba\n",
    "score = model.score(X_test, y_test)\n",
    "\n",
    "# Imprimir precisión\n",
    "print(f\"Precisión: {accuracy_score(y_test, y_pred):.4f}\")"
   ]
  },
  {
   "cell_type": "markdown",
   "metadata": {},
   "source": [
    "## Asignación 2\n",
    "\n",
    "Implemente una clase que permita ajustar un modelo Naive Bayes. La clase debe cumplir con los siguientes requisitos:\n",
    "\n",
    "- Debe contar con un método para realizar el entrenamiento en caso de ser requerido.\n",
    "- Debe contar con un método para realizar las predicciones.\n",
    "- Cada método debe imprimir una barra de progreso que permita conocer el tiempo estimado en que terminará."
   ]
  },
  {
   "cell_type": "markdown",
   "metadata": {},
   "source": [
    "En esta sección se incluye un dataset real. El dataset importado se llama _spambase_ y puede leer su descripción en la siguiente liga\n",
    "\n",
    "https://www.openml.org/d/42904"
   ]
  },
  {
   "cell_type": "code",
   "execution_count": 328,
   "metadata": {},
   "outputs": [],
   "source": [
    "# Descarga la metadata del dataset\n",
    "dataset_info = openml.datasets.get_dataset(42904, download_data=False)\n",
    "\n",
    "target = \"CLASS\"\n",
    "\n",
    "(\n",
    "    features, # Dataframe con las características que se pueden utilizar para predecir\n",
    "    outputs, # Columna a predecir\n",
    "    _, # Máscara que indica que columnas de todas las características son categoricas\n",
    "    columns # Lista con el nombre de las características\n",
    ")= dataset_info.get_data(\n",
    "    dataset_format=\"dataframe\", target=target\n",
    ")\n",
    "\n",
    "columns = np.array(columns)"
   ]
  },
  {
   "cell_type": "code",
   "execution_count": 329,
   "metadata": {},
   "outputs": [
    {
     "name": "stdout",
     "output_type": "stream",
     "text": [
      "La columna a predecir se llama 'CLASS'\n",
      "Todas las características son ['COMMENT_ID' 'AUTHOR' 'DATE' 'CONTENT']\n"
     ]
    }
   ],
   "source": [
    "print(f\"La columna a predecir se llama '{target}'\")\n",
    "print(f\"Todas las características son {str(columns)}\")"
   ]
  },
  {
   "cell_type": "code",
   "execution_count": 330,
   "metadata": {},
   "outputs": [],
   "source": [
    "# Impresión de las características\n",
    "features\n",
    "# Eliminar las características que no se pueden utilizar para predecir\n",
    "features = features.drop(columns=[\"COMMENT_ID\", \"AUTHOR\", \"DATE\"])"
   ]
  },
  {
   "cell_type": "code",
   "execution_count": 331,
   "metadata": {},
   "outputs": [
    {
     "data": {
      "text/html": [
       "<div>\n",
       "<style scoped>\n",
       "    .dataframe tbody tr th:only-of-type {\n",
       "        vertical-align: middle;\n",
       "    }\n",
       "\n",
       "    .dataframe tbody tr th {\n",
       "        vertical-align: top;\n",
       "    }\n",
       "\n",
       "    .dataframe thead th {\n",
       "        text-align: right;\n",
       "    }\n",
       "</style>\n",
       "<table border=\"1\" class=\"dataframe\">\n",
       "  <thead>\n",
       "    <tr style=\"text-align: right;\">\n",
       "      <th></th>\n",
       "      <th>CONTENT</th>\n",
       "    </tr>\n",
       "  </thead>\n",
       "  <tbody>\n",
       "    <tr>\n",
       "      <th>0</th>\n",
       "      <td>Huh, anyway check out this you[tube] channel: ...</td>\n",
       "    </tr>\n",
       "    <tr>\n",
       "      <th>1</th>\n",
       "      <td>Hey guys check out my new channel and our firs...</td>\n",
       "    </tr>\n",
       "    <tr>\n",
       "      <th>2</th>\n",
       "      <td>just for test I have to say murdev.com</td>\n",
       "    </tr>\n",
       "    <tr>\n",
       "      <th>3</th>\n",
       "      <td>me shaking my sexy ass on my channel enjoy ^_^ ﻿</td>\n",
       "    </tr>\n",
       "    <tr>\n",
       "      <th>4</th>\n",
       "      <td>watch?v=vtaRGgvGtWQ   Check this out .﻿</td>\n",
       "    </tr>\n",
       "    <tr>\n",
       "      <th>...</th>\n",
       "      <td>...</td>\n",
       "    </tr>\n",
       "    <tr>\n",
       "      <th>345</th>\n",
       "      <td>How can this have 2 billion views when there's...</td>\n",
       "    </tr>\n",
       "    <tr>\n",
       "      <th>346</th>\n",
       "      <td>I don't now why I'm watching this in 2014﻿</td>\n",
       "    </tr>\n",
       "    <tr>\n",
       "      <th>347</th>\n",
       "      <td>subscribe to me for call of duty vids and give...</td>\n",
       "    </tr>\n",
       "    <tr>\n",
       "      <th>348</th>\n",
       "      <td>hi guys please my android photo editor downloa...</td>\n",
       "    </tr>\n",
       "    <tr>\n",
       "      <th>349</th>\n",
       "      <td>The first billion viewed this because they tho...</td>\n",
       "    </tr>\n",
       "  </tbody>\n",
       "</table>\n",
       "<p>350 rows × 1 columns</p>\n",
       "</div>"
      ],
      "text/plain": [
       "                                               CONTENT\n",
       "0    Huh, anyway check out this you[tube] channel: ...\n",
       "1    Hey guys check out my new channel and our firs...\n",
       "2               just for test I have to say murdev.com\n",
       "3     me shaking my sexy ass on my channel enjoy ^_^ ﻿\n",
       "4              watch?v=vtaRGgvGtWQ   Check this out .﻿\n",
       "..                                                 ...\n",
       "345  How can this have 2 billion views when there's...\n",
       "346         I don't now why I'm watching this in 2014﻿\n",
       "347  subscribe to me for call of duty vids and give...\n",
       "348  hi guys please my android photo editor downloa...\n",
       "349  The first billion viewed this because they tho...\n",
       "\n",
       "[350 rows x 1 columns]"
      ]
     },
     "execution_count": 331,
     "metadata": {},
     "output_type": "execute_result"
    }
   ],
   "source": [
    "prefeatures = features\n",
    "features"
   ]
  },
  {
   "cell_type": "code",
   "execution_count": 332,
   "metadata": {},
   "outputs": [],
   "source": [
    "import sys\n",
    "\n",
    "def progressbar(it, prefix=\"\", size=60, file=sys.stdout):\n",
    "    count = len(it)\n",
    "    def show(j):\n",
    "        x = int(size*j/count)\n",
    "        file.write(\"%s[%s%s] %i/%i\\r\" % (prefix, \"#\"*x, \".\"*(size-x), j, count))\n",
    "        file.flush()\n",
    "        file.write(\"\\n\")\n",
    "    show(0)\n",
    "    for i, item in enumerate(it):\n",
    "        yield item\n",
    "        show(i+1)\n",
    "        file.write(\"\\n\")\n",
    "    file.flush()"
   ]
  },
  {
   "cell_type": "code",
   "execution_count": 333,
   "metadata": {},
   "outputs": [],
   "source": [
    "import time\n",
    "import numpy as np\n",
    "class NaiveBayes:\n",
    "    def __init__(self):\n",
    "        self.classes = None\n",
    "        self.class_priors = None\n",
    "        self.mean = None\n",
    "        self.var = None\n",
    "    def fit(self, X, y):\n",
    "        start_time = time.time()\n",
    "        self.classes = np.unique(y)\n",
    "        self.class_priors = np.zeros(len(self.classes))\n",
    "        self.mean = np.zeros((len(self.classes), X.shape[1]))\n",
    "        self.var = np.zeros((len(self.classes), X.shape[1]))\n",
    "        # Calcular priori de clase\n",
    "        for i, c in enumerate(self.classes):\n",
    "            self.class_priors[i] = np.sum(y == c) / len(y)\n",
    "        # Calcular media y varianza de cada clase\n",
    "        for i in progressbar(range(len(self.classes)), \"Procesando: \", 40):\n",
    "            for i, c in enumerate(self.classes):\n",
    "                X_c = X[y == c]\n",
    "                self.mean[i] = X_c.mean(axis=0)\n",
    "                self.var[i] = X_c.var(axis=0)\n",
    "        elapsed_time = time.time() - start_time\n",
    "        print(f\"Entrenamiento completado en {elapsed_time:.2f} segundos.\")\n",
    "    #La función predict es un método de la clase NaiveBayes, que toma como entrada una matriz X de puntos de datos y devuelve\n",
    "    #una matriz predictions de etiquetas de clase predichas correspondientes a cada punto de datos en X.\n",
    "    def predict(self, X):\n",
    "        # almacena el tiempo de inicio de la predicción.\n",
    "        start_time = time.time()\n",
    "        # lista vacía para almacenar las etiquetas de clase predichas.\n",
    "        predictions = []\n",
    "        for x in X: \n",
    "            for i in progressbar((X), \"Procesando: \", 40):\n",
    "                class_probs = []\n",
    "                for i, c in enumerate(self.classes):\n",
    "                    #:calcula el logaritmo de la probabilidad a priori de la clase i.\n",
    "                    prior = np.log(self.class_priors[i])\n",
    "                    posterior = np.sum(np.log(self.normal_pdf(x, self.mean[i], self.var[i])))\n",
    "                    class_prob = prior + posterior\n",
    "                    class_probs.append(class_prob)\n",
    "                predictions.append(self.classes[np.argmax(class_probs)])\n",
    "        elapsed_time = time.time() - start_time\n",
    "        print(f\"Prediccion completada en  {elapsed_time:.2f} segundos.\")\n",
    "        return np.array(predictions)\n",
    "    #La función devuelve el valor de la función de densidad de probabilidad en x.\n",
    "    def normal_pdf(self, x, mean, var):\n",
    "        eps = 1e-4\n",
    "        numerator = np.exp(-0.5 * (x - mean)**2 / (var + eps))\n",
    "        denominator = np.sqrt(2 * np.pi * var + eps)\n",
    "        return numerator / denominator"
   ]
  },
  {
   "cell_type": "code",
   "execution_count": 334,
   "metadata": {},
   "outputs": [],
   "source": [
    "import numpy as np\n",
    "\n",
    "class NaiveBayesClassifier:\n",
    "    def fit(self, X, y):\n",
    "        self.classes = np.unique(y)\n",
    "        self.n_classes = len(self.classes)\n",
    "        self.n_features = X.shape[1]\n",
    "\n",
    "        self.mean = np.zeros((self.n_classes, self.n_features))\n",
    "        self.var = np.zeros((self.n_classes, self.n_features))\n",
    "\n",
    "        for i, c in enumerate(self.classes):\n",
    "            X_class = X[c == y]\n",
    "            self.mean[i, :] = X_class.mean(axis=0)\n",
    "            self.var[i, :] = X_class.var(axis=0)\n",
    "\n",
    "    def predict(self, X):\n",
    "        # calculate class priors\n",
    "        priors = np.zeros(self.n_classes)\n",
    "        for i, c in enumerate(self.classes):\n",
    "            priors[i] = np.sum(y == c) / len(y)\n",
    "\n",
    "        # calculate log posteriors\n",
    "        log_posteriors = np.zeros((X.shape[0], self.n_classes))\n",
    "        for i, c in enumerate(self.classes):\n",
    "            mean = self.mean[i, :]\n",
    "            var = self.var[i, :]\n",
    "            log_likelihood = (-0.5 * np.log(2 * np.pi * var)\n",
    "                              - 0.5 * (X - mean)**2 / var).sum(axis=1)\n",
    "            log_posteriors[:, i] = np.log(priors[i]) + log_likelihood\n",
    "\n",
    "        # return class with highest log posterior\n",
    "        return self.classes[np.argmax(log_posteriors, axis=1)]\n"
   ]
  },
  {
   "cell_type": "code",
   "execution_count": 335,
   "metadata": {},
   "outputs": [],
   "source": [
    "resultado = NaiveBayes()"
   ]
  },
  {
   "cell_type": "code",
   "execution_count": 336,
   "metadata": {},
   "outputs": [],
   "source": [
    "import numpy as np\n",
    "\n",
    "class NaiveBayesClassifier:\n",
    "    def fit(self, X, y):\n",
    "        self.classes = np.unique(y)\n",
    "        self.n_classes = len(self.classes)\n",
    "        self.n_features = X.shape[1]\n",
    "\n",
    "        self.mean = np.zeros((self.n_classes, self.n_features))\n",
    "        self.var = np.zeros((self.n_classes, self.n_features))\n",
    "\n",
    "        for i, c in enumerate(self.classes):\n",
    "            X_class = X[c == y]\n",
    "            self.mean[i, :] = X_class.mean(axis=0)\n",
    "            self.var[i, :] = X_class.var(axis=0)\n",
    "\n",
    "    def predict(self, X):\n",
    "        # calculate class priors\n",
    "        priors = np.zeros(self.n_classes)\n",
    "        for i, c in enumerate(self.classes):\n",
    "            priors[i] = np.sum(y == c) / len(y)\n",
    "\n",
    "        # calculate log posteriors\n",
    "        log_posteriors = np.zeros((X.shape[0], self.n_classes))\n",
    "        for i, c in enumerate(self.classes):\n",
    "            mean = self.mean[i, :]\n",
    "            var = self.var[i, :]\n",
    "            log_likelihood = (-0.5 * np.log(2 * np.pi * var)\n",
    "                              - 0.5 * (X - mean)**2 / var).sum(axis=1)\n",
    "            log_posteriors[:, i] = np.log(priors[i]) + log_likelihood\n",
    "\n",
    "        # return class with highest log posterior\n",
    "        return self.classes[np.argmax(log_posteriors, axis=1)]\n"
   ]
  },
  {
   "cell_type": "markdown",
   "metadata": {},
   "source": [
    "## Asignación 3\n",
    "\n",
    "Realice el preprocesamiento que considere adecuado para que el dataset pueda ser procesado por un modelo de clasificación. __No olvide utilizar particionar en entrenamiento y validación, y realizar el preprocesamiento de manera adecuada__."
   ]
  },
  {
   "cell_type": "code",
   "execution_count": 337,
   "metadata": {},
   "outputs": [],
   "source": [
    "#unir en un solo dataframe las caracteristicas y la columna a predecir\n",
    "data = pd.concat([features, outputs], axis=1)"
   ]
  },
  {
   "cell_type": "code",
   "execution_count": 338,
   "metadata": {},
   "outputs": [
    {
     "name": "stdout",
     "output_type": "stream",
     "text": [
      "                                               CONTENT  CLASS\n",
      "0          huh anyway check youtube channel kobyoshi02      1\n",
      "1    hey guy check new channel first vid u monkey i...      1\n",
      "2                                   test say murdevcom      1\n",
      "3                      shaking sexy as channel enjoy _      1\n",
      "4                              watchvvtarggvgtwq check      1\n",
      "..                                                 ...    ...\n",
      "345                    2 billion view there planet lol      0\n",
      "346                              dont im watching 2014      0\n",
      "347    subscribe call duty vids give aways goal100 sub      1\n",
      "348  hi guy please android photo editor download th...      1\n",
      "349  first billion viewed thought really cool billi...      0\n",
      "\n",
      "[350 rows x 2 columns]\n"
     ]
    }
   ],
   "source": [
    "import pandas as pd\n",
    "import numpy as np\n",
    "import re\n",
    "import nltk\n",
    "\n",
    "# Separa los comentarios y etiquetas en dos arrays diferentes\n",
    "\n",
    "comentarios = data['CONTENT']\n",
    "etiquetas = data['CLASS']\n",
    "\n",
    "def preprocesar_comentarios(comentarios):\n",
    "    # Elimina caracteres no deseados\n",
    "    comentarios = comentarios.apply(lambda x: re.sub(r'[^\\w\\s]', '', x))\n",
    "    #cambiar las url por la palabra url\n",
    "    comentarios = comentarios.apply(lambda x: re.sub(r'http[s]://.', 'url', x, flags=re.MULTILINE))\n",
    "    # Convierte a minúsculas\n",
    "    comentarios = comentarios.apply(lambda x: x.lower())\n",
    "    # Elimina stopwords\n",
    "    stopwords = nltk.corpus.stopwords.words('english')\n",
    "    comentarios = comentarios.apply(lambda x: ' '.join([word for word in x.split() if word not in (stopwords)]))\n",
    "    # Lematiza palabras\n",
    "    lemmatizer = nltk.WordNetLemmatizer()\n",
    "    comentarios = comentarios.apply(lambda x: ' '.join([lemmatizer.lemmatize(word) for word in x.split()]))\n",
    "    return comentarios\n",
    "\n",
    "comentarios = preprocesar_comentarios(comentarios)\n",
    "#concatener comentarios + etiquetas en un solo dataframe\n",
    "data = pd.concat([comentarios, etiquetas], axis=1)\n",
    "print(data)\n"
   ]
  },
  {
   "cell_type": "markdown",
   "metadata": {},
   "source": [
    "## Asignación 4\n",
    "\n",
    "Realice una visualización de los datos en dos dimensiones. Posteriormente entrene un modelo de KNN (utilizando la clase implementada anteriormente) y valide que su modelo generaliza bien."
   ]
  },
  {
   "cell_type": "code",
   "execution_count": 339,
   "metadata": {},
   "outputs": [],
   "source": [
    "from gensim.models.doc2vec import Doc2Vec, TaggedDocument\n",
    "from nltk.tokenize import word_tokenize\n",
    "from sklearn.model_selection import train_test_split"
   ]
  },
  {
   "cell_type": "code",
   "execution_count": 340,
   "metadata": {},
   "outputs": [],
   "source": [
    "#instalar punkt\n",
    "#nltk.download('punkt')"
   ]
  },
  {
   "cell_type": "code",
   "execution_count": 341,
   "metadata": {},
   "outputs": [],
   "source": [
    "def etiquetar_documentos(docs):\n",
    "    return [TaggedDocument(words=word_tokenize(doc.lower()), tags=[str(i)]) for i, doc in enumerate(docs)]\n",
    "\n",
    "# Función para entrenar el modelo Doc2Vec\n",
    "def entrenar_doc2vec(docs):\n",
    "    docs_etiquetados = etiquetar_documentos(docs)\n",
    "    modelo = Doc2Vec(vector_size=500, min_count=5, epochs=100)\n",
    "    modelo.build_vocab(docs_etiquetados)\n",
    "    modelo.train(docs_etiquetados, total_examples=modelo.corpus_count, epochs=modelo.epochs)\n",
    "    return modelo\n",
    "\n",
    "modelo_doc2vec = entrenar_doc2vec(comentarios)\n",
    "def preprocesar_comentario(comentario):\n",
    "    tokens = word_tokenize(comentario.lower())\n",
    "    return modelo_doc2vec.infer_vector(tokens)\n",
    "\n",
    "#prepro\n",
    "comentarios_preprocesados = [preprocesar_comentario(comentario) for comentario in comentarios]\n",
    "\n",
    "# Divide los datos en conjuntos de entrenamiento y prueba\n",
    "X_train, X_test, y_train, y_test = train_test_split(comentarios_preprocesados, etiquetas, test_size=0.2, random_state=42)"
   ]
  },
  {
   "cell_type": "code",
   "execution_count": 342,
   "metadata": {},
   "outputs": [
    {
     "name": "stdout",
     "output_type": "stream",
     "text": [
      "Precisión: 0.8286\n"
     ]
    }
   ],
   "source": [
    "from sklearn.metrics import accuracy_score\n",
    "from sklearn.model_selection import train_test_split\n",
    "from sklearn.neighbors import KNeighborsClassifier\n",
    "\n",
    "# Create a KNN classifier\n",
    "model = KNeighborsClassifier(n_neighbors=3, metric='cosine', p=2)\n",
    "\n",
    "# Fit the model to the training data\n",
    "model.fit(X_train, y_train)\n",
    "\n",
    "# Predict on the test set\n",
    "y_pred = model.predict(X_test)\n",
    "\n",
    "# Compute the accuracy score on the test set\n",
    "score = accuracy_score(y_test, y_pred)\n",
    "\n",
    "# Print the accuracy score\n",
    "print(f\"Precisión: {score:.4f}\")"
   ]
  },
  {
   "cell_type": "code",
   "execution_count": 343,
   "metadata": {},
   "outputs": [
    {
     "data": {
      "image/png": "[encoded data removed]",
      "text/plain": [
       "<Figure size 640x480 with 1 Axes>"
      ]
     },
     "metadata": {},
     "output_type": "display_data"
    }
   ],
   "source": [
    "import matplotlib.pyplot as plt\n",
    "import numpy as np\n",
    "\n",
    "# Convert X_test to a NumPy array\n",
    "X_test = np.array(X_test)\n",
    "\n",
    "# Create a scatter plot of the test data\n",
    "fig, ax = plt.subplots()\n",
    "for label, color in zip(np.unique(y_test), ['red', 'green', 'blue']):\n",
    "    idx = np.array(y_test == label)\n",
    "    ax.scatter(X_test[idx, 0], X_test[idx, 1], c=color, label=f\"Clase {label}\")\n",
    "ax.legend()\n",
    "ax.set_xlabel(\"Caracteristica 1\")\n",
    "ax.set_ylabel(\"Caracteristica 2\")\n",
    "ax.set_title(\"Resultados de Clasificacion\")\n",
    "plt.show()\n"
   ]
  },
  {
   "cell_type": "code",
   "execution_count": 344,
   "metadata": {},
   "outputs": [
    {
     "data": {
      "image/png": "[encoded data removed]",
      "text/plain": [
       "<Figure size 640x480 with 2 Axes>"
      ]
     },
     "metadata": {},
     "output_type": "display_data"
    }
   ],
   "source": [
    "import seaborn as sns\n",
    "from sklearn.metrics import confusion_matrix\n",
    "\n",
    "\n",
    "cm = confusion_matrix(y_test, y_pred)\n",
    "fig, ax = plt.subplots()\n",
    "sns.heatmap(cm, annot=True, cmap='Greens', fmt='g')\n",
    "ax.set_xlabel('Predicted labels')\n",
    "ax.set_ylabel('True labels')\n",
    "ax.set_title('Confusion matrix')\n",
    "plt.show()\n"
   ]
  },
  {
   "cell_type": "code",
   "execution_count": 345,
   "metadata": {},
   "outputs": [
    {
     "name": "stdout",
     "output_type": "stream",
     "text": [
      "Prediccion de Bayes\n",
      "Este comentario:: i hate this video No es spam \n",
      "\n",
      "Este comentario: pls contact me 55489701 free bitcoin Es spam \n",
      "\n",
      "Este comentario: check this channel https://www.youtube.com/watch?v=Ndslxwl9N-Y Es spam \n",
      "\n",
      "Este comentario: sub me pls and i will sub you back Es spam \n",
      "\n"
     ]
    }
   ],
   "source": [
    "# Preprocess the new comments\n",
    "new_comments = [\n",
    "    \"i hate this video\",\n",
    "    \"pls contact me 55489701 free bitcoin\",\n",
    "    \"check this channel https://www.youtube.com/watch?v=Ndslxwl9N-Y\",\n",
    "    \"sub me pls and i will sub you back\",\n",
    "]\n",
    "new_comments_preprocessed = [preprocesar_comentario(comentario) for comentario in new_comments]\n",
    "\n",
    "# Make predictions on the new comments\n",
    "predictions = model.predict(new_comments_preprocessed)\n",
    "print(\"Prediccion de Bayes\")\n",
    "# Print the predicted labels\n",
    "for comment, prediction in zip(new_comments, predictions):\n",
    "    if prediction == 1:\n",
    "        print(f\"Este comentario: {comment} Es spam \\n\")\n",
    "    else:\n",
    "        print(f\"Este comentario:: {comment} No es spam \\n\")\n"
   ]
  },
  {
   "cell_type": "markdown",
   "metadata": {},
   "source": [
    "## Asignación 5\n",
    "\n",
    "Entrene un modelo de Naive Bayes (utilizando la clase implementada anteriormente) y valide que su modelo generaliza bien."
   ]
  },
  {
   "cell_type": "code",
   "execution_count": 346,
   "metadata": {},
   "outputs": [
    {
     "name": "stdout",
     "output_type": "stream",
     "text": [
      "Procesando: [........................................] 0/2\n",
      "Procesando: [####################....................] 1/2\n",
      "\n",
      "Procesando: [########################################] 2/2\n",
      "\n",
      "Entrenamiento completado en 0.01 segundos.\n"
     ]
    }
   ],
   "source": [
    "\n",
    "# Crea una instancia de la clase NaiveBayes\n",
    "modelo = NaiveBayes()\n",
    "# Convierte los datos de entrenamiento a arrays NumPy\n",
    "X_train = np.array(X_train)\n",
    "y_train = np.array(y_train)\n",
    "# Entrena el modelo utilizando los datos de entrenamiento\n",
    "modelo.fit(X_train, y_train)"
   ]
  },
  {
   "cell_type": "code",
   "execution_count": 347,
   "metadata": {},
   "outputs": [],
   "source": [
    "modelo2 = NaiveBayesClassifier()\n",
    "# Convierte los datos de entrenamiento a arrays NumPy\n",
    "X_train = np.array(X_train)\n",
    "y_train = np.array(y_train)\n",
    "# Entrena el modelo utilizando los datos de entrenamiento\n",
    "modelo2.fit(X_train, y_train)"
   ]
  },
  {
   "cell_type": "code",
   "execution_count": 348,
   "metadata": {},
   "outputs": [],
   "source": [
    "new_comments = [\n",
    "    \"i hate this video\",\n",
    "    \"pls contact me 55489701 free bitcoin\",\n",
    "    \"check this channel https://www.youtube.com/watch?v=Ndslxwl9N-Y\",\n",
    "    \"sub me pls and i will sub you back\",\n",
    "]"
   ]
  },
  {
   "cell_type": "code",
   "execution_count": 349,
   "metadata": {},
   "outputs": [
    {
     "name": "stdout",
     "output_type": "stream",
     "text": [
      "Procesando: [........................................] 0/1\n",
      "Procesando: [########################################] 1/1\n",
      "\n",
      "Prediccion completada en  0.00 segundos.\n",
      "i hate this video este comentario no es spam.\n",
      "\n",
      "Procesando: [........................................] 0/1\n",
      "Procesando: [########################################] 1/1\n",
      "\n",
      "Prediccion completada en  0.00 segundos.\n",
      "pls contact me 55489701 free bitcoin este comentario no es spam.\n",
      "\n",
      "Procesando: [........................................] 0/1\n",
      "Procesando: [########################################] 1/1\n",
      "\n",
      "Prediccion completada en  0.00 segundos.\n",
      "check this channel https://www.youtube.com/watch?v=Ndslxwl9N-Y este comentario no es spam.\n",
      "\n",
      "Procesando: [........................................] 0/1\n",
      "Procesando: [########################################] 1/1\n",
      "\n",
      "Prediccion completada en  0.00 segundos.\n",
      "sub me pls and i will sub you back este comentario no es spam.\n",
      "\n"
     ]
    }
   ],
   "source": [
    "# Predice si un nuevo comentario es spam o no\n",
    "from IPython.display import Markdown    \n",
    "resultados = []\n",
    "for com in new_comments:\n",
    "    nuevo_comentario_preprocesado = preprocesar_comentario(com)\n",
    "    es_spam = modelo.predict([nuevo_comentario_preprocesado])\n",
    "    # Muestra si el nuevo comentario es spam o no\n",
    "    if es_spam[0] == 1:\n",
    "        print(com + \" este comentario es spam. \\n\")\n",
    "        \n",
    "    else:\n",
    "        print( com + \" este comentario no es spam.\\n\")"
   ]
  },
  {
   "cell_type": "code",
   "execution_count": 350,
   "metadata": {},
   "outputs": [],
   "source": [
    "import re\n",
    "\n",
    "import pandas as pd\n",
    "\n",
    "import numpy as np\n",
    "\n",
    "from sklearn.preprocessing import LabelEncoder\n",
    "\n",
    "from sklearn.model_selection import train_test_split\n",
    "\n",
    "from sklearn.metrics import classification_report\n",
    "\n",
    "from sklearn.metrics import accuracy_score\n",
    "\n",
    "import math\n",
    "\n",
    "import nltk\n",
    "\n",
    "from sklearn.feature_extraction.text import CountVectorizer\n",
    "\n",
    "from collections import defaultdict\n",
    "\n",
    "data = pd.concat([features, outputs], axis=1)"
   ]
  },
  {
   "cell_type": "code",
   "execution_count": 351,
   "metadata": {},
   "outputs": [
    {
     "data": {
      "text/html": [
       "<div>\n",
       "<style scoped>\n",
       "    .dataframe tbody tr th:only-of-type {\n",
       "        vertical-align: middle;\n",
       "    }\n",
       "\n",
       "    .dataframe tbody tr th {\n",
       "        vertical-align: top;\n",
       "    }\n",
       "\n",
       "    .dataframe thead th {\n",
       "        text-align: right;\n",
       "    }\n",
       "</style>\n",
       "<table border=\"1\" class=\"dataframe\">\n",
       "  <thead>\n",
       "    <tr style=\"text-align: right;\">\n",
       "      <th></th>\n",
       "      <th>CONTENT</th>\n",
       "      <th>CLASS</th>\n",
       "    </tr>\n",
       "  </thead>\n",
       "  <tbody>\n",
       "    <tr>\n",
       "      <th>0</th>\n",
       "      <td>Huh, anyway check out this you[tube] channel: ...</td>\n",
       "      <td>1</td>\n",
       "    </tr>\n",
       "    <tr>\n",
       "      <th>1</th>\n",
       "      <td>Hey guys check out my new channel and our firs...</td>\n",
       "      <td>1</td>\n",
       "    </tr>\n",
       "    <tr>\n",
       "      <th>2</th>\n",
       "      <td>just for test I have to say murdev.com</td>\n",
       "      <td>1</td>\n",
       "    </tr>\n",
       "    <tr>\n",
       "      <th>3</th>\n",
       "      <td>me shaking my sexy ass on my channel enjoy ^_^ ﻿</td>\n",
       "      <td>1</td>\n",
       "    </tr>\n",
       "    <tr>\n",
       "      <th>4</th>\n",
       "      <td>watch?v=vtaRGgvGtWQ   Check this out .﻿</td>\n",
       "      <td>1</td>\n",
       "    </tr>\n",
       "    <tr>\n",
       "      <th>...</th>\n",
       "      <td>...</td>\n",
       "      <td>...</td>\n",
       "    </tr>\n",
       "    <tr>\n",
       "      <th>345</th>\n",
       "      <td>How can this have 2 billion views when there's...</td>\n",
       "      <td>0</td>\n",
       "    </tr>\n",
       "    <tr>\n",
       "      <th>346</th>\n",
       "      <td>I don't now why I'm watching this in 2014﻿</td>\n",
       "      <td>0</td>\n",
       "    </tr>\n",
       "    <tr>\n",
       "      <th>347</th>\n",
       "      <td>subscribe to me for call of duty vids and give...</td>\n",
       "      <td>1</td>\n",
       "    </tr>\n",
       "    <tr>\n",
       "      <th>348</th>\n",
       "      <td>hi guys please my android photo editor downloa...</td>\n",
       "      <td>1</td>\n",
       "    </tr>\n",
       "    <tr>\n",
       "      <th>349</th>\n",
       "      <td>The first billion viewed this because they tho...</td>\n",
       "      <td>0</td>\n",
       "    </tr>\n",
       "  </tbody>\n",
       "</table>\n",
       "<p>350 rows × 2 columns</p>\n",
       "</div>"
      ],
      "text/plain": [
       "                                               CONTENT  CLASS\n",
       "0    Huh, anyway check out this you[tube] channel: ...      1\n",
       "1    Hey guys check out my new channel and our firs...      1\n",
       "2               just for test I have to say murdev.com      1\n",
       "3     me shaking my sexy ass on my channel enjoy ^_^ ﻿      1\n",
       "4              watch?v=vtaRGgvGtWQ   Check this out .﻿      1\n",
       "..                                                 ...    ...\n",
       "345  How can this have 2 billion views when there's...      0\n",
       "346         I don't now why I'm watching this in 2014﻿      0\n",
       "347  subscribe to me for call of duty vids and give...      1\n",
       "348  hi guys please my android photo editor downloa...      1\n",
       "349  The first billion viewed this because they tho...      0\n",
       "\n",
       "[350 rows x 2 columns]"
      ]
     },
     "execution_count": 351,
     "metadata": {},
     "output_type": "execute_result"
    }
   ],
   "source": [
    "data"
   ]
  },
  {
   "cell_type": "code",
   "execution_count": 352,
   "metadata": {},
   "outputs": [
    {
     "name": "stdout",
     "output_type": "stream",
     "text": [
      "                                               CONTENT  CLASS\n",
      "0          huh anyway check youtube channel kobyoshi02      1\n",
      "1    hey guy check new channel first vid u monkey i...      1\n",
      "2                                   test say murdevcom      1\n",
      "3                      shaking sexy as channel enjoy _      1\n",
      "4                              watchvvtarggvgtwq check      1\n",
      "..                                                 ...    ...\n",
      "345                    2 billion view there planet lol      0\n",
      "346                              dont im watching 2014      0\n",
      "347    subscribe call duty vids give aways goal100 sub      1\n",
      "348  hi guy please android photo editor download th...      1\n",
      "349  first billion viewed thought really cool billi...      0\n",
      "\n",
      "[350 rows x 2 columns]\n"
     ]
    }
   ],
   "source": [
    "comentarios = data['CONTENT']\n",
    "etiquetas = data['CLASS']\n",
    "\n",
    "def preprocesar_comentarios(comentarios):\n",
    "    # Elimina caracteres no deseados\n",
    "    comentarios = comentarios.apply(lambda x: re.sub(r'[^\\w\\s]', '', x))\n",
    "    #cambiar las url por la palabra url\n",
    "    comentarios = comentarios.apply(lambda x: re.sub(r'http[s]://.', 'url', x, flags=re.MULTILINE))\n",
    "    # Convierte a minúsculas\n",
    "    comentarios = comentarios.apply(lambda x: x.lower())\n",
    "    # Elimina stopwords\n",
    "    stopwords = nltk.corpus.stopwords.words('english')\n",
    "    comentarios = comentarios.apply(lambda x: ' '.join([word for word in x.split() if word not in (stopwords)]))\n",
    "    # Lematiza palabras\n",
    "    lemmatizer = nltk.WordNetLemmatizer()\n",
    "    comentarios = comentarios.apply(lambda x: ' '.join([lemmatizer.lemmatize(word) for word in x.split()]))\n",
    "    return comentarios\n",
    "\n",
    "comentarios = preprocesar_comentarios(comentarios)\n",
    "#concatener comentarios + etiquetas en un solo dataframe\n",
    "data = pd.concat([comentarios, etiquetas], axis=1)\n",
    "print(data)"
   ]
  },
  {
   "cell_type": "code",
   "execution_count": 353,
   "metadata": {},
   "outputs": [],
   "source": [
    "w_tokenizer = nltk.tokenize.WhitespaceTokenizer()\n",
    "lemmatizer = nltk.stem.WordNetLemmatizer()\n",
    "def lemmatize_text(text):\n",
    "    st = \"\"\n",
    "    for w in w_tokenizer.tokenize(text):\n",
    "        st = st + lemmatizer.lemmatize(w) + \" \"\n",
    "    return st\n",
    "data['CONTENT'] = data.CONTENT.apply(lemmatize_text)"
   ]
  },
  {
   "cell_type": "code",
   "execution_count": 354,
   "metadata": {},
   "outputs": [
    {
     "data": {
      "text/html": [
       "<div>\n",
       "<style scoped>\n",
       "    .dataframe tbody tr th:only-of-type {\n",
       "        vertical-align: middle;\n",
       "    }\n",
       "\n",
       "    .dataframe tbody tr th {\n",
       "        vertical-align: top;\n",
       "    }\n",
       "\n",
       "    .dataframe thead th {\n",
       "        text-align: right;\n",
       "    }\n",
       "</style>\n",
       "<table border=\"1\" class=\"dataframe\">\n",
       "  <thead>\n",
       "    <tr style=\"text-align: right;\">\n",
       "      <th></th>\n",
       "      <th>CONTENT</th>\n",
       "      <th>CLASS</th>\n",
       "    </tr>\n",
       "  </thead>\n",
       "  <tbody>\n",
       "    <tr>\n",
       "      <th>0</th>\n",
       "      <td>huh anyway check youtube channel kobyoshi02</td>\n",
       "      <td>1</td>\n",
       "    </tr>\n",
       "    <tr>\n",
       "      <th>1</th>\n",
       "      <td>hey guy check new channel first vid u monkey i...</td>\n",
       "      <td>1</td>\n",
       "    </tr>\n",
       "    <tr>\n",
       "      <th>2</th>\n",
       "      <td>test say murdevcom</td>\n",
       "      <td>1</td>\n",
       "    </tr>\n",
       "    <tr>\n",
       "      <th>3</th>\n",
       "      <td>shaking sexy a channel enjoy _</td>\n",
       "      <td>1</td>\n",
       "    </tr>\n",
       "    <tr>\n",
       "      <th>4</th>\n",
       "      <td>watchvvtarggvgtwq check</td>\n",
       "      <td>1</td>\n",
       "    </tr>\n",
       "    <tr>\n",
       "      <th>...</th>\n",
       "      <td>...</td>\n",
       "      <td>...</td>\n",
       "    </tr>\n",
       "    <tr>\n",
       "      <th>345</th>\n",
       "      <td>2 billion view there planet lol</td>\n",
       "      <td>0</td>\n",
       "    </tr>\n",
       "    <tr>\n",
       "      <th>346</th>\n",
       "      <td>dont im watching 2014</td>\n",
       "      <td>0</td>\n",
       "    </tr>\n",
       "    <tr>\n",
       "      <th>347</th>\n",
       "      <td>subscribe call duty vids give aways goal100 sub</td>\n",
       "      <td>1</td>\n",
       "    </tr>\n",
       "    <tr>\n",
       "      <th>348</th>\n",
       "      <td>hi guy please android photo editor download th...</td>\n",
       "      <td>1</td>\n",
       "    </tr>\n",
       "    <tr>\n",
       "      <th>349</th>\n",
       "      <td>first billion viewed thought really cool billi...</td>\n",
       "      <td>0</td>\n",
       "    </tr>\n",
       "  </tbody>\n",
       "</table>\n",
       "<p>350 rows × 2 columns</p>\n",
       "</div>"
      ],
      "text/plain": [
       "                                               CONTENT  CLASS\n",
       "0         huh anyway check youtube channel kobyoshi02       1\n",
       "1    hey guy check new channel first vid u monkey i...      1\n",
       "2                                  test say murdevcom       1\n",
       "3                      shaking sexy a channel enjoy _       1\n",
       "4                             watchvvtarggvgtwq check       1\n",
       "..                                                 ...    ...\n",
       "345                   2 billion view there planet lol       0\n",
       "346                             dont im watching 2014       0\n",
       "347   subscribe call duty vids give aways goal100 sub       1\n",
       "348  hi guy please android photo editor download th...      1\n",
       "349  first billion viewed thought really cool billi...      0\n",
       "\n",
       "[350 rows x 2 columns]"
      ]
     },
     "execution_count": 354,
     "metadata": {},
     "output_type": "execute_result"
    }
   ],
   "source": [
    "data"
   ]
  },
  {
   "cell_type": "code",
   "execution_count": 355,
   "metadata": {},
   "outputs": [],
   "source": [
    "reviews = data['CONTENT'].values\n",
    "labels = data['CLASS'].values\n",
    "encoder = LabelEncoder()\n",
    "encoded_labels = encoder.fit_transform(labels)\n",
    "\n",
    "train_sentences, test_sentences, train_labels, test_labels = train_test_split(reviews, encoded_labels, stratify = encoded_labels)\n",
    "\n",
    "vec = CountVectorizer(max_features = 4000)\n",
    "X = vec.fit_transform(train_sentences)\n",
    "vocab = vec.get_feature_names_out()\n",
    "X = X.toarray()\n",
    "word_counts = {}\n",
    "for l in range(2):\n",
    "    word_counts[l] = defaultdict(lambda: 0)\n",
    "for i in range(X.shape[0]):\n",
    "    l = train_labels[i]\n",
    "    for j in range(len(vocab)):\n",
    "        word_counts[l][vocab[j]] += X[i][j]\n",
    "\n",
    "def laplace_smoothing(n_label_items, vocab, word_counts, word, text_label):\n",
    "    a = word_counts[text_label][word] + 1\n",
    "    b = n_label_items[text_label] + len(vocab)\n",
    "    return math.log(a/b)\n",
    "\n",
    "\n",
    "def group_by_label(x, y, labels):\n",
    "    data = {}\n",
    "    for l in labels:\n",
    "        data[l] = x[np.where(y == l)]\n",
    "    return data\n",
    "\n",
    "def fit(x, y, labels):\n",
    "    n_label_items = {}\n",
    "    log_label_priors = {}\n",
    "    n = len(x)\n",
    "    grouped_data = group_by_label(x, y, labels)\n",
    "    for l, data in grouped_data.items():\n",
    "        n_label_items[l] = len(data)\n",
    "        log_label_priors[l] = math.log(n_label_items[l] / n)\n",
    "    return n_label_items, log_label_priors\n",
    "def predict(n_label_items, vocab, word_counts, log_label_priors, labels, x):\n",
    "    result = []\n",
    "    for text in x:\n",
    "        label_scores = {l: log_label_priors[l] for l in labels}\n",
    "        words = set(w_tokenizer.tokenize(text))\n",
    "        for word in words:\n",
    "            if word not in vocab: continue\n",
    "            for l in labels:\n",
    "                log_w_given_l = laplace_smoothing(n_label_items, vocab, word_counts, word, l)\n",
    "                label_scores[l] += log_w_given_l\n",
    "        result.append(max(label_scores, key=label_scores.get))\n",
    "    return result"
   ]
  },
  {
   "cell_type": "code",
   "execution_count": 356,
   "metadata": {},
   "outputs": [
    {
     "name": "stdout",
     "output_type": "stream",
     "text": [
      "Accuracy of prediction on test set :  0.8636363636363636\n"
     ]
    }
   ],
   "source": [
    "labels = [0,1]\n",
    "n_label_items, log_label_priors = fit(train_sentences,train_labels,labels)\n",
    "pred = predict(n_label_items, vocab, word_counts, log_label_priors, labels, test_sentences)\n",
    "print(\"Accuracy of prediction on test set : \", accuracy_score(test_labels,pred))"
   ]
  },
  {
   "cell_type": "code",
   "execution_count": 357,
   "metadata": {},
   "outputs": [
    {
     "name": "stdout",
     "output_type": "stream",
     "text": [
      "El comentario \"i hate this video\" es spam.\n",
      "El comentario \"pls contact me 55489701 free bitcoin\" es spam.\n",
      "El comentario \"check this channel https://www.youtube.com/watch?v=Ndslxwl9N-Y\" es spam.\n",
      "El comentario \"sub me pls and i will sub you back\" es spam.\n",
      "El comentario \"sus pls to my channel\" es spam.\n",
      "El comentario \"this song is beeter in live\" no es spam.\n",
      "El comentario \"i dont know what im doing here\" no es spam.\n",
      "El comentario \"i love this video\" no es spam.\n"
     ]
    }
   ],
   "source": [
    "def preprocesar_comentario(comentario):\n",
    "    # Realizar el preprocesamiento necesario, por ejemplo:\n",
    "    comentario = comentario.lower()\n",
    "    comentario = re.sub(r'\\d+', '', comentario)\n",
    "    comentario = re.sub(r'[^\\w\\s]', '', comentario)\n",
    "    comentario = comentario.strip()\n",
    "    comentario = ' '.join([palabra for palabra in comentario.split() if palabra not in stop_words])\n",
    "    return comentario\n",
    "\n",
    "\n",
    "new_comments = [\n",
    "    \"i hate this video\",\n",
    "    \"pls contact me 55489701 free bitcoin\",\n",
    "    \"check this channel https://www.youtube.com/watch?v=Ndslxwl9N-Y\",\n",
    "    \"sub me pls and i will sub you back\",\n",
    "    \"sus pls to my channel\",\n",
    "    \"this song is beeter in live\",\n",
    "    \"i dont know what im doing here\",\n",
    "    \"i love this video\",\n",
    "]\n",
    "\n",
    "for x in new_comments:\n",
    "    nuevo_comentario_preprocesado = preprocesar_comentario(x)\n",
    "    es_spam = predict(n_label_items, vocab, word_counts, log_label_priors, [0, 1], [nuevo_comentario_preprocesado])[0]\n",
    "\n",
    "    if es_spam == 1:\n",
    "        print('El comentario \"{}\" es spam.'.format(x))\n",
    "    else:\n",
    "        print('El comentario \"{}\" no es spam.'.format(x))\n"
   ]
  },
  {
   "cell_type": "code",
   "execution_count": 21,
   "metadata": {},
   "outputs": [],
   "source": [
    "#!/bin/python3\n",
    "\n",
    "import math\n",
    "import os\n",
    "import random\n",
    "import re\n",
    "import sys\n",
    "\n",
    "#\n",
    "# Complete the 'compareTriplets' function below.\n",
    "#\n",
    "# The function is expected to return an INTEGER_ARRAY.\n",
    "# The function accepts following parameters:\n",
    "#  1. INTEGER_ARRAY a\n",
    "#  2. INTEGER_ARRAY b\n",
    "#\n",
    "\n",
    "def compareTriplets(a, b):\n",
    "    # Write your code here\n",
    "    \n",
    "    print(a)\n",
    "    print(b)\n",
    "   \n",
    "    result = []\n",
    "    for x in range(3):\n",
    "        print(a[x])\n",
    "        print(b[x])\n",
    "\n"
   ]
  },
  {
   "cell_type": "code",
   "execution_count": 22,
   "metadata": {},
   "outputs": [
    {
     "name": "stdout",
     "output_type": "stream",
     "text": [
      "[2, 3, 5]\n",
      "[2, 3, 4]\n",
      "2\n",
      "2\n",
      "3\n",
      "3\n"
     ]
    }
   ],
   "source": [
    "import math\n",
    "import os\n",
    "import random\n",
    "import re\n",
    "import sys\n",
    "\n",
    "if __name__ == '__main__':\n",
    "   \n",
    "\n",
    "    a = list(map(int, input().rstrip().split()))\n",
    "\n",
    "    b = list(map(int, input().rstrip().split()))\n",
    "\n",
    "    result = compareTriplets(a, b)\n",
    "\n",
    "    #print(' '.join(map(str, result)))\n",
    "    #print(a)\n",
    "  "
   ]
  }
 ],
 "metadata": {
  "kernelspec": {
   "display_name": "Python 3",
   "language": "python",
   "name": "python3"
  },
  "language_info": {
   "codemirror_mode": {
    "name": "ipython",
    "version": 3
   },
   "file_extension": ".py",
   "mimetype": "text/x-python",
   "name": "python",
   "nbconvert_exporter": "python",
   "pygments_lexer": "ipython3",
   "version": "3.11.2"
  }
 },
 "nbformat": 4,
 "nbformat_minor": 4
}
