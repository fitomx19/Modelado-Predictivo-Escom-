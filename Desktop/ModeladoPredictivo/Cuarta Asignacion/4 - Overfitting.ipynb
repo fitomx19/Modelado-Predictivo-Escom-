{
 "cells": [
  {
   "cell_type": "code",
   "execution_count": 2,
   "metadata": {},
   "outputs": [],
   "source": [
    "# Execute if necessary\n",
    "# %%capture\n",
    "#!pip install numpy seaborn matplotlib pandas openml"
   ]
  },
  {
   "cell_type": "code",
   "execution_count": 3,
   "metadata": {},
   "outputs": [],
   "source": [
    "import numpy as np\n",
    "import seaborn as sns\n",
    "import matplotlib.pyplot as plt\n",
    "import pandas as pd\n",
    "from typing import Dict, Tuple, Union, List\n",
    "import openml\n",
    "import sklearn"
   ]
  },
  {
   "cell_type": "markdown",
   "metadata": {},
   "source": [
    "# Práctica 4: Overfitting"
   ]
  },
  {
   "cell_type": "markdown",
   "metadata": {},
   "source": [
    "__Instrucciones__: A continuación hay una lista de funciones que debe implementar o tareas que debe desarrollar. La descripción de cada una de ellas se encuentra en la definición de cada una de las funciones. Cada función está marcada por &#x1F625;,  &#x1F643; o &#x1F921;. Las marcas indican:\n",
    "\n",
    "- &#x1F625;: Indican una entrega que debe ser hecha dentro de la misma sesión de la asignación. \n",
    "- &#x1F643;: Indican una entrega que puede ser hecha hasta la siguiente sesión.\n",
    "- &#x1F921;: Debe mostrar un avance en la misma sesión, pero la entrega puede ser hecha en la siguiente.\n",
    "\n",
    "Aquellas entregas parciales que no sean hechas el día de la asignación ya no serán válidas para las entregas totales, sin embargo, las entregas totales seguirán siendo válidas."
   ]
  },
  {
   "cell_type": "markdown",
   "metadata": {},
   "source": [
    "En esta sección se incluye un dataset real. El dataset importado se llama LDPA y puede leer su descripción en la siguiente liga\n",
    "\n",
    "https://www.openml.org/d/1483"
   ]
  },
  {
   "cell_type": "code",
   "execution_count": 4,
   "metadata": {},
   "outputs": [],
   "source": [
    "# Descarga la metadata del dataset\n",
    "dataset_info = openml.datasets.get_dataset(1483, download_data=False)\n",
    "\n",
    "# Obtiene el nombre de la columna a predecir\n",
    "target = dataset_info.default_target_attribute\n",
    "\n",
    "(\n",
    "    features, # Dataframe con las características que se pueden utilizar para predecir\n",
    "    outputs, # Columna a predecir\n",
    "    categorical_mask, # Máscara que indica que columnas de todas las características son categoricas\n",
    "    columns # Lista con el nombre de las características\n",
    ")= dataset_info.get_data(\n",
    "    dataset_format=\"dataframe\", target=target\n",
    ")\n",
    "\n",
    "categorical_mask = np.array(categorical_mask)\n",
    "columns = np.array(columns)"
   ]
  },
  {
   "cell_type": "code",
   "execution_count": 5,
   "metadata": {},
   "outputs": [
    {
     "name": "stdout",
     "output_type": "stream",
     "text": [
      "La columna a predecir se llama 'Class'\n",
      "Todas las características son ['V1' 'V2' 'V3' 'V4' 'V5' 'V6' 'V7']\n",
      "Las características categóricas son ['V1' 'V2']\n",
      "Las características numéricas son ['V3' 'V4' 'V5' 'V6' 'V7']\n"
     ]
    }
   ],
   "source": [
    "print(f\"La columna a predecir se llama '{target}'\")\n",
    "print(f\"Todas las características son {str(columns)}\")\n",
    "print(f\"Las características categóricas son {str(columns[categorical_mask])}\")\n",
    "print(f\"Las características numéricas son {str(columns[~categorical_mask])}\")"
   ]
  },
  {
   "cell_type": "code",
   "execution_count": 6,
   "metadata": {},
   "outputs": [
    {
     "data": {
      "text/html": [
       "<div>\n",
       "<style scoped>\n",
       "    .dataframe tbody tr th:only-of-type {\n",
       "        vertical-align: middle;\n",
       "    }\n",
       "\n",
       "    .dataframe tbody tr th {\n",
       "        vertical-align: top;\n",
       "    }\n",
       "\n",
       "    .dataframe thead th {\n",
       "        text-align: right;\n",
       "    }\n",
       "</style>\n",
       "<table border=\"1\" class=\"dataframe\">\n",
       "  <thead>\n",
       "    <tr style=\"text-align: right;\">\n",
       "      <th></th>\n",
       "      <th>V1</th>\n",
       "      <th>V2</th>\n",
       "      <th>V3</th>\n",
       "      <th>V4</th>\n",
       "      <th>V5</th>\n",
       "      <th>V6</th>\n",
       "      <th>V7</th>\n",
       "    </tr>\n",
       "  </thead>\n",
       "  <tbody>\n",
       "    <tr>\n",
       "      <th>0</th>\n",
       "      <td>1</td>\n",
       "      <td>1</td>\n",
       "      <td>105794.0</td>\n",
       "      <td>105777.0</td>\n",
       "      <td>148933.0</td>\n",
       "      <td>108479.0</td>\n",
       "      <td>109365.0</td>\n",
       "    </tr>\n",
       "    <tr>\n",
       "      <th>1</th>\n",
       "      <td>1</td>\n",
       "      <td>4</td>\n",
       "      <td>105795.0</td>\n",
       "      <td>105778.0</td>\n",
       "      <td>155325.0</td>\n",
       "      <td>96952.0</td>\n",
       "      <td>161363.0</td>\n",
       "    </tr>\n",
       "    <tr>\n",
       "      <th>2</th>\n",
       "      <td>1</td>\n",
       "      <td>3</td>\n",
       "      <td>105796.0</td>\n",
       "      <td>105779.0</td>\n",
       "      <td>156652.0</td>\n",
       "      <td>101610.0</td>\n",
       "      <td>148870.0</td>\n",
       "    </tr>\n",
       "    <tr>\n",
       "      <th>3</th>\n",
       "      <td>1</td>\n",
       "      <td>1</td>\n",
       "      <td>105797.0</td>\n",
       "      <td>105780.0</td>\n",
       "      <td>149736.0</td>\n",
       "      <td>107135.0</td>\n",
       "      <td>102479.0</td>\n",
       "    </tr>\n",
       "    <tr>\n",
       "      <th>4</th>\n",
       "      <td>1</td>\n",
       "      <td>2</td>\n",
       "      <td>105798.0</td>\n",
       "      <td>105781.0</td>\n",
       "      <td>155978.0</td>\n",
       "      <td>125455.0</td>\n",
       "      <td>106203.0</td>\n",
       "    </tr>\n",
       "    <tr>\n",
       "      <th>...</th>\n",
       "      <td>...</td>\n",
       "      <td>...</td>\n",
       "      <td>...</td>\n",
       "      <td>...</td>\n",
       "      <td>...</td>\n",
       "      <td>...</td>\n",
       "      <td>...</td>\n",
       "    </tr>\n",
       "    <tr>\n",
       "      <th>164855</th>\n",
       "      <td>5</td>\n",
       "      <td>2</td>\n",
       "      <td>43687.0</td>\n",
       "      <td>43679.0</td>\n",
       "      <td>106611.0</td>\n",
       "      <td>123166.0</td>\n",
       "      <td>12432.0</td>\n",
       "    </tr>\n",
       "    <tr>\n",
       "      <th>164856</th>\n",
       "      <td>5</td>\n",
       "      <td>1</td>\n",
       "      <td>43688.0</td>\n",
       "      <td>43680.0</td>\n",
       "      <td>120821.0</td>\n",
       "      <td>119848.0</td>\n",
       "      <td>87463.0</td>\n",
       "    </tr>\n",
       "    <tr>\n",
       "      <th>164857</th>\n",
       "      <td>5</td>\n",
       "      <td>4</td>\n",
       "      <td>43689.0</td>\n",
       "      <td>43681.0</td>\n",
       "      <td>104999.0</td>\n",
       "      <td>110823.0</td>\n",
       "      <td>161536.0</td>\n",
       "    </tr>\n",
       "    <tr>\n",
       "      <th>164858</th>\n",
       "      <td>5</td>\n",
       "      <td>2</td>\n",
       "      <td>43690.0</td>\n",
       "      <td>43682.0</td>\n",
       "      <td>102191.0</td>\n",
       "      <td>112520.0</td>\n",
       "      <td>10811.0</td>\n",
       "    </tr>\n",
       "    <tr>\n",
       "      <th>164859</th>\n",
       "      <td>5</td>\n",
       "      <td>1</td>\n",
       "      <td>43691.0</td>\n",
       "      <td>43683.0</td>\n",
       "      <td>106656.0</td>\n",
       "      <td>113422.0</td>\n",
       "      <td>80572.0</td>\n",
       "    </tr>\n",
       "  </tbody>\n",
       "</table>\n",
       "<p>164860 rows × 7 columns</p>\n",
       "</div>"
      ],
      "text/plain": [
       "       V1 V2        V3        V4        V5        V6        V7\n",
       "0       1  1  105794.0  105777.0  148933.0  108479.0  109365.0\n",
       "1       1  4  105795.0  105778.0  155325.0   96952.0  161363.0\n",
       "2       1  3  105796.0  105779.0  156652.0  101610.0  148870.0\n",
       "3       1  1  105797.0  105780.0  149736.0  107135.0  102479.0\n",
       "4       1  2  105798.0  105781.0  155978.0  125455.0  106203.0\n",
       "...    .. ..       ...       ...       ...       ...       ...\n",
       "164855  5  2   43687.0   43679.0  106611.0  123166.0   12432.0\n",
       "164856  5  1   43688.0   43680.0  120821.0  119848.0   87463.0\n",
       "164857  5  4   43689.0   43681.0  104999.0  110823.0  161536.0\n",
       "164858  5  2   43690.0   43682.0  102191.0  112520.0   10811.0\n",
       "164859  5  1   43691.0   43683.0  106656.0  113422.0   80572.0\n",
       "\n",
       "[164860 rows x 7 columns]"
      ]
     },
     "execution_count": 6,
     "metadata": {},
     "output_type": "execute_result"
    }
   ],
   "source": [
    "# Impresión de las características\n",
    "features"
   ]
  },
  {
   "cell_type": "code",
   "execution_count": 7,
   "metadata": {},
   "outputs": [
    {
     "data": {
      "text/plain": [
       "0         3\n",
       "1         3\n",
       "2         3\n",
       "3         3\n",
       "4         3\n",
       "         ..\n",
       "164855    3\n",
       "164856    3\n",
       "164857    3\n",
       "164858    3\n",
       "164859    3\n",
       "Name: Class, Length: 164860, dtype: category\n",
       "Categories (11, object): ['1' < '2' < '3' < '4' ... '8' < '9' < '10' < '11']"
      ]
     },
     "execution_count": 7,
     "metadata": {},
     "output_type": "execute_result"
    }
   ],
   "source": [
    "outputs"
   ]
  },
  {
   "cell_type": "markdown",
   "metadata": {},
   "source": [
    "A continuación se realiza la partición de __train__ y __test__. __No debe utilizar la partición de test por ningún motivo__."
   ]
  },
  {
   "cell_type": "code",
   "execution_count": 8,
   "metadata": {},
   "outputs": [],
   "source": [
    "X_train, X_test, y_train, y_test = sklearn.model_selection.train_test_split(\n",
    "    features, \n",
    "    outputs, \n",
    "    test_size=0.5, \n",
    "    random_state=11\n",
    ")"
   ]
  },
  {
   "cell_type": "markdown",
   "metadata": {},
   "source": [
    "## Asignación 1 &#x1F921;\n",
    "\n",
    "Utilizando las técnicas vistas en clase, realicé su mejor esfuerzo para obtener el mejor modelo lineal posible utilizando __únicamente el conjunto de entrenamiento__ (X_train y y_train). Puede utilizar bibliotecas, pero únicamente las técnicas vistas en clase y debe ir generando métricas o visualizaciones que respalden su toma de decisiones. Debe tener e imprimir una estimación de $E_{out}$ utilizando su conjunto de entrenamiento. La métrica utilizada será la entropía cruzada."
   ]
  },
  {
   "attachments": {},
   "cell_type": "markdown",
   "metadata": {},
   "source": [
    "- La columna a predecir se llama 'Class'\n",
    "- Todas las características son ['V1' 'V2' 'V3' 'V4' 'V5' 'V6' 'V7']\n",
    "- Las características categóricas son ['V1' 'V2']\n",
    "- Las características numéricas son ['V3' 'V4' 'V5' 'V6' 'V7']"
   ]
  },
  {
   "attachments": {},
   "cell_type": "markdown",
   "metadata": {},
   "source": [
    "1. Como ya estan convertidos los datos categoricos no habrá necesidad de convertirlos\n",
    "2. Elegí realizar Cross Validation porque puedes evaluar el rendimiento de tu modelo de manera más robusta que utilizando simplemente un conjunto de entrenamiento y prueba. También te permite comparar el rendimiento de diferentes modelos y seleccionar el mejor modelo para tus datos."
   ]
  },
  {
   "cell_type": "code",
   "execution_count": 11,
   "metadata": {},
   "outputs": [],
   "source": [
    "import numpy as np\n",
    "from sklearn.model_selection import cross_val_score\n",
    "from sklearn.model_selection import KFold\n",
    "from sklearn.linear_model import LinearRegression"
   ]
  },
  {
   "attachments": {},
   "cell_type": "markdown",
   "metadata": {},
   "source": [
    "En este caso, el modelo que se va a utilizar es una regresión lineal"
   ]
  },
  {
   "cell_type": "code",
   "execution_count": 17,
   "metadata": {},
   "outputs": [
    {
     "name": "stdout",
     "output_type": "stream",
     "text": [
      "Obtenemos el valor de la media y la desviación estándar de los scores obtenidos en cada iteración del cross validation\n",
      "R2 Score: 0.02 (+/- 0.02)\n"
     ]
    }
   ],
   "source": [
    "model = LinearRegression()\n",
    "#Se utiliza el cross validation con 100 iteraciones y se obtiene el score de cada iteración\n",
    "kf = KFold(n_splits=100, shuffle=True, random_state=42)\n",
    "#Se utiliza el score R2 para evaluar el modelo\n",
    "scores = cross_val_score(model, X_train, y_train, cv=kf, scoring='r2')\n",
    "print(\"Obtenemos el valor de la media y la desviación estándar de los scores obtenidos en cada iteración del cross validation\") \n",
    "print(\"R2 Score: %0.2f (+/- %0.2f)\" % (scores.mean(), scores.std() * 2))\n"
   ]
  },
  {
   "attachments": {},
   "cell_type": "markdown",
   "metadata": {},
   "source": [
    "En este caso, el modelo que se va a utilizar es una regresión lineal con OLS"
   ]
  },
  {
   "cell_type": "code",
   "execution_count": 35,
   "metadata": {},
   "outputs": [
    {
     "name": "stdout",
     "output_type": "stream",
     "text": [
      "Obtenemos el valor de la media y la desviación estándar de los scores obtenidos en cada iteración del cross validation\n",
      "R2 Score: 0.02 (+/- 0.01)\n"
     ]
    }
   ],
   "source": [
    "model = LinearRegression(fit_intercept=True)\n",
    "#Se utiliza el cross validation con 100 iteraciones y se obtiene el score de cada iteración\n",
    "kf = KFold(n_splits=50, shuffle=True, random_state=42)\n",
    "#Se utiliza el score R2 para evaluar el modelo\n",
    "scores = cross_val_score(model, X_train, y_train, cv=kf, scoring='r2')\n",
    "print(\"Obtenemos el valor de la media y la desviación estándar de los scores obtenidos en cada iteración del cross validation\") \n",
    "print(\"R2 Score: %0.2f (+/- %0.2f)\" % (scores.mean(), scores.std() * 2))"
   ]
  },
  {
   "attachments": {},
   "cell_type": "markdown",
   "metadata": {},
   "source": [
    "En este caso, el modelo que se va utilizar es la normalizacion de X"
   ]
  },
  {
   "cell_type": "code",
   "execution_count": 32,
   "metadata": {},
   "outputs": [],
   "source": [
    "# Normalizar los datos\n",
    "from sklearn.preprocessing import StandardScaler    \n",
    "scaler = StandardScaler()\n",
    "X_train_scaled = scaler.fit_transform(X_train)\n",
    "#normalizar los datos de y_train\n",
    "y_train_scaled = (y_train - y_train.mean()) / y_train.std()"
   ]
  },
  {
   "cell_type": "code",
   "execution_count": 36,
   "metadata": {},
   "outputs": [
    {
     "name": "stdout",
     "output_type": "stream",
     "text": [
      "Obtenemos el valor de la media y la desviación estándar de los scores obtenidos en cada iteración del cross validation\n",
      "R2 Score: 0.02 (+/- 0.01)\n"
     ]
    }
   ],
   "source": [
    "model = LinearRegression()\n",
    "#Se utiliza el cross validation con 100 iteraciones y se obtiene el score de cada iteración\n",
    "kf = KFold(n_splits=50, shuffle=True, random_state=42)\n",
    "#Se utiliza el score R2 para evaluar el modelo\n",
    "scores = cross_val_score(model, X_train_scaled, y_train_scaled, cv=kf, scoring='r2')\n",
    "print(\"Obtenemos el valor de la media y la desviación estándar de los scores obtenidos en cada iteración del cross validation\") \n",
    "print(\"R2 Score: %0.2f (+/- %0.2f)\" % (scores.mean(), scores.std() * 2))"
   ]
  },
  {
   "cell_type": "markdown",
   "metadata": {},
   "source": [
    "## Asignación 2 &#x1F921;\n",
    "\n",
    "Evalue su modelo final en el conjunto de test (X_test y y_test). Su práctica será evaluada acorde a las técnicas aplicadas, la estimación de $E_{out}$, el valor de $E_{test}$, y contra las métricas obtenidas por sus compañeros."
   ]
  },
  {
   "cell_type": "code",
   "execution_count": null,
   "metadata": {},
   "outputs": [],
   "source": []
  }
 ],
 "metadata": {
  "kernelspec": {
   "display_name": "Python 3",
   "language": "python",
   "name": "python3"
  },
  "language_info": {
   "codemirror_mode": {
    "name": "ipython",
    "version": 3
   },
   "file_extension": ".py",
   "mimetype": "text/x-python",
   "name": "python",
   "nbconvert_exporter": "python",
   "pygments_lexer": "ipython3",
   "version": "3.11.1"
  }
 },
 "nbformat": 4,
 "nbformat_minor": 4
}
