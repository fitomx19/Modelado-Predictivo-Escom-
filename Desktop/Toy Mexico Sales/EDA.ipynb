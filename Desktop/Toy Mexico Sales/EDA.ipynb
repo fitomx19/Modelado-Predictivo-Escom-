{
 "cells": [
  {
   "attachments": {},
   "cell_type": "markdown",
   "metadata": {},
   "source": [
    "### Analísis exploratorio de datos"
   ]
  },
  {
   "attachments": {},
   "cell_type": "markdown",
   "metadata": {},
   "source": [
    "Pasos a realizar para el analisis exploratorio. "
   ]
  },
  {
   "attachments": {},
   "cell_type": "markdown",
   "metadata": {},
   "source": [
    "1. Visualizacion de diccionarios\n",
    "2. \n",
    "3. \n",
    "4. \n",
    "5. \n",
    "6. \n",
    "7."
   ]
  },
  {
   "cell_type": "code",
   "execution_count": 17,
   "metadata": {},
   "outputs": [],
   "source": [
    "#Librerias\n",
    "import pandas as pd"
   ]
  },
  {
   "cell_type": "code",
   "execution_count": 18,
   "metadata": {},
   "outputs": [],
   "source": [
    "inventory_data_dictionary = pd.read_csv('./Data Dictionary/inventory_data_dictionary.csv')\n",
    "products_data_dictionary = pd.read_csv('./Data Dictionary/products_data_dictionary.csv')\n",
    "sales_data_dictionary = pd.read_csv('./Data Dictionary/sales_data_dictionary.csv')\n",
    "stores_data_dictionary = pd.read_csv('./Data Dictionary/stores_data_dictionary.csv')"
   ]
  },
  {
   "cell_type": "code",
   "execution_count": 19,
   "metadata": {},
   "outputs": [
    {
     "name": "stdout",
     "output_type": "stream",
     "text": [
      "¿Cuantos registros de productos existen en el dataset?\n",
      "35\n",
      "\n",
      "¿Cuantos registros de ventas existen en el dataset?\n",
      "829262\n",
      "\n",
      "¿Cuantos registros de inventario existen en el dataset?\n",
      "1593\n",
      "\n",
      "¿Cuantos registros de tiendas existen en el dataset?\n",
      "50\n",
      "\n"
     ]
    }
   ],
   "source": [
    "#¿Cuantos registros de productos existen en el dataset?\n",
    "products = pd.read_csv('./products.csv')\n",
    "print('¿Cuantos registros de productos existen en el dataset?')\n",
    "print(products.shape[0])\n",
    "print('')\n",
    "#¿Cuantos registros de ventas existen en el dataset?\n",
    "sales = pd.read_csv('./sales.csv')\n",
    "print('¿Cuantos registros de ventas existen en el dataset?')\n",
    "print(sales.shape[0])\n",
    "print('')  \n",
    "#¿Cuantos registros de inventario existen en el dataset?\n",
    "inventory = pd.read_csv('./inventory.csv')\n",
    "print('¿Cuantos registros de inventario existen en el dataset?')\n",
    "print(inventory.shape[0])\n",
    "print('')\n",
    "#¿Cuantos registros de tiendas existen en el dataset?\n",
    "stores = pd.read_csv('./stores.csv')\n",
    "print('¿Cuantos registros de tiendas existen en el dataset?')\n",
    "print(stores.shape[0])\n",
    "print('none')"
   ]
  },
  {
   "cell_type": "code",
   "execution_count": 28,
   "metadata": {},
   "outputs": [
    {
     "name": "stdout",
     "output_type": "stream",
     "text": [
      "De quartely_sales, ¿Cual es el trimestre con mas ventas?\n",
      "Quarter\n",
      "1    295320\n",
      "2    334909\n",
      "3    295259\n",
      "4    165077\n",
      "Name: Units, dtype: int64\n"
     ]
    }
   ],
   "source": [
    "#¿Cual es la temporada con mas ventas?\n",
    "# Convertir la columna de fecha a datetime y extraer el trimestre\n",
    "sales['Quarter'] = pd.to_datetime(sales['Date']).dt.quarter\n",
    "\n",
    "# Agrupar los datos por trimestre y sumar las ventas\n",
    "quarterly_sales = sales.groupby('Quarter')['Units'].sum()\n",
    "\n",
    "print('De quartely_sales, ¿Cual es el trimestre con mas ventas?')\n",
    "\n",
    "# Imprimir el resultado\n",
    "print(quarterly_sales)"
   ]
  },
  {
   "cell_type": "code",
   "execution_count": null,
   "metadata": {},
   "outputs": [],
   "source": []
  }
 ],
 "metadata": {
  "kernelspec": {
   "display_name": "Python 3",
   "language": "python",
   "name": "python3"
  },
  "language_info": {
   "codemirror_mode": {
    "name": "ipython",
    "version": 3
   },
   "file_extension": ".py",
   "mimetype": "text/x-python",
   "name": "python",
   "nbconvert_exporter": "python",
   "pygments_lexer": "ipython3",
   "version": "3.10.10"
  },
  "orig_nbformat": 4
 },
 "nbformat": 4,
 "nbformat_minor": 2
}
